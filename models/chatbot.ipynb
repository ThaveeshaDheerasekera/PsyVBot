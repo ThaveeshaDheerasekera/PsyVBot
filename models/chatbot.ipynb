{
 "cells": [
  {
   "cell_type": "code",
   "execution_count": 2,
   "id": "b2fed54c-6870-4ed7-bf66-db30a996dc8c",
   "metadata": {
    "ExecuteTime": {
     "start_time": "2023-04-09T02:44:50.136277Z",
     "end_time": "2023-04-09T02:44:53.048758Z"
    }
   },
   "outputs": [],
   "source": [
    "import os\n",
    "import time\n",
    "import random\n",
    "import tensorflow as tf\n",
    "import numpy as np"
   ]
  },
  {
   "cell_type": "code",
   "execution_count": 3,
   "outputs": [],
   "source": [
    "# Define paths to the dataset files\n",
    "DATA_DIR = \"../datasets/cornell_movie_dialog_corpus\"\n",
    "CONVERSATIONS_FILE = os.path.join(DATA_DIR, \"movie_conversations.txt\")\n",
    "LINES_FILE = os.path.join(DATA_DIR, \"movie_lines.txt\")"
   ],
   "metadata": {
    "collapsed": false,
    "ExecuteTime": {
     "start_time": "2023-04-09T02:44:55.558688Z",
     "end_time": "2023-04-09T02:44:55.561118Z"
    }
   }
  },
  {
   "cell_type": "code",
   "execution_count": null,
   "outputs": [],
   "source": [],
   "metadata": {
    "collapsed": false
   }
  }
 ],
 "metadata": {
  "kernelspec": {
   "display_name": "Python 3.10 (tensorflow)",
   "language": "python",
   "name": "tensorflow"
  },
  "language_info": {
   "codemirror_mode": {
    "name": "ipython",
    "version": 3
   },
   "file_extension": ".py",
   "mimetype": "text/x-python",
   "name": "python",
   "nbconvert_exporter": "python",
   "pygments_lexer": "ipython3",
   "version": "3.10.10"
  }
 },
 "nbformat": 4,
 "nbformat_minor": 5
}
