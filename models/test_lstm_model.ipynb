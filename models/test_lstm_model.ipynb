{
 "cells": [
  {
   "cell_type": "code",
   "execution_count": 94,
   "metadata": {},
   "outputs": [],
   "source": [
    "import os\n",
    "os.environ['TF_CPP_MIN_LOG_LEVEL'] = '2'\n",
    "\n",
    "import logging\n",
    "logging.getLogger('tensorflow').setLevel(logging.ERROR)"
   ]
  },
  {
   "cell_type": "code",
   "execution_count": 95,
   "metadata": {},
   "outputs": [],
   "source": [
    "from keras.models import load_model\n",
    "from keras.preprocessing.text import Tokenizer\n",
    "from keras.utils import pad_sequences\n",
    "from keras.models import load_model"
   ]
  },
  {
   "cell_type": "code",
   "execution_count": 96,
   "metadata": {},
   "outputs": [],
   "source": [
    "# Load the saved model from the .h5 file\n",
    "model = load_model('/Users/thaveesha/Projects/PsyVBot/models/final_models/lstm_e5_b32_es.h5')"
   ]
  },
  {
   "cell_type": "code",
   "execution_count": 97,
   "metadata": {},
   "outputs": [],
   "source": [
    "sad = [ \n",
    "       \"Ex Wife Threatening SuicideRecently I left my wife for good because she has cheated on me twice and lied to me so much that I have decided to refuse to go back to her. As of a few days ago, she began threatening suicide. I have tirelessly spent these paat few days talking her out of it and she keeps hesitating because she wants to believe I'll come back. I know a lot of people will threaten this in order to get their way, but what happens if she really does? What do I do and how am I supposed to handle her death on my hands? I still love my wife but I cannot deal with getting cheated on again and constantly feeling insecure. I'm worried today may be the day she does it and I hope so much it doesn't happen.\", \n",
    "       \"I’m so lostHello, my name is Adam (16) and I’ve been struggling for years and I’m afraid. Through these past years thoughts of suicide, fear, anxiety I’m so close to my limit . I’ve been quiet for so long and I’m too scared to come out to my family about these feelings. About 3 years ago  losing my aunt triggered it all. Everyday feeling hopeless , lost, guilty, and remorseful over her and all the things I’ve done in my life,but thoughts like these with the little I’ve experienced in life? Only time I’ve revealed these feelings to my family is when I broke down where they saw my cuts. Watching them get so worried over something I portrayed as an average day made me feel absolutely dreadful. They later found out I was an attempt survivor from attempt OD(overdose from pills) and attempt hanging. All that happened was a blackout from the pills and I never went through with the noose because I’m still so afraid. During my first therapy I was diagnosed with severe depression, social anxiety, and a eating disorder.\",\n",
    "       \"But, I did. I did something stupid out of impulse. I burned myself.  I REALLY need help with an excuse as the father of my daughter knows my history (we were together 12 years.) He's seen my at my worst - but! I had always only cut on my ankles and wrists, I'm thinking the excuse for this would be easier than one for cuts.\"]\n",
    "\n",
    "happy = [\"I'm so happy today!\",\n",
    "         \"Everything is going my way!\",\n",
    "         \"I am content and at peace with myself.\"]"
   ]
  },
  {
   "cell_type": "code",
   "execution_count": 100,
   "metadata": {},
   "outputs": [
    {
     "name": "stdout",
     "output_type": "stream",
     "text": [
      "1/1 [==============================] - 0s 21ms/step\n",
      "{\"prediction\": [0.8269021511077881]}\n"
     ]
    }
   ],
   "source": [
    "# Define the input strings\n",
    "import json\n",
    "\n",
    "# Load the tokenizer that you used during training\n",
    "tokenizer = Tokenizer(num_words=5000)\n",
    "tokenizer.fit_on_texts(happy)\n",
    "\n",
    "# Convert the input strings into sequences of integers\n",
    "sequences = tokenizer.texts_to_sequences(happy)\n",
    "\n",
    "# Pad the sequences to a fixed length\n",
    "padded_sequences = pad_sequences(sequences, maxlen=100)\n",
    "\n",
    "# Make a prediction on the padded sequences\n",
    "predictions = model.predict(padded_sequences)\n",
    "\n",
    "final_prediction = sum(predictions)/len(happy)\n",
    "\n",
    "        # Convert the ndarray to a list\n",
    "prediction_list = final_prediction.tolist()\n",
    "\n",
    "    # Return the prediction as a JSON-serializable string\n",
    "# return json.dumps({'prediction': prediction_list})\n",
    "print(json.dumps({'prediction': prediction_list}))"
   ]
  },
  {
   "cell_type": "code",
   "execution_count": 99,
   "metadata": {},
   "outputs": [
    {
     "name": "stdout",
     "output_type": "stream",
     "text": [
      "1/1 [==============================] - 0s 45ms/step\n",
      "1/1 [==============================] - 0s 22ms/step\n",
      "PsyVBot: Based on the information you've provided, it appears that you are depressed with a confidence level of [0.8735405] for the happy input list.\n",
      "PsyVBot: Based on the information you've provided, it appears that you are not depressed with a confidence level of [0.05140823] for the sad input list.\n"
     ]
    }
   ],
   "source": [
    "# Define the maximum number of words to keep based on the size of your vocabulary\n",
    "max_words = 5000\n",
    "tokenizer = Tokenizer(num_words=max_words)\n",
    "\n",
    "# Fit the tokenizer on your input lists\n",
    "tokenizer.fit_on_texts(happy + sad)\n",
    "\n",
    "# Convert the input lists into numerical sequences using the tokenizer\n",
    "happy_sequences = tokenizer.texts_to_sequences(happy)\n",
    "sad_sequences = tokenizer.texts_to_sequences(sad)\n",
    "\n",
    "# Pad the sequences to ensure they all have the same length\n",
    "max_len = 100\n",
    "padded_happy_sequences = pad_sequences(happy_sequences, maxlen=max_len)\n",
    "padded_sad_sequences = pad_sequences(sad_sequences, maxlen=max_len)\n",
    "\n",
    "# Make predictions on the padded sequences\n",
    "happy_predictions = model.predict(padded_happy_sequences)\n",
    "sad_predictions = model.predict(padded_sad_sequences)\n",
    "\n",
    "# Determine the depression diagnosis based on the maximum prediction value\n",
    "happy_max_prediction = max(happy_predictions)\n",
    "sad_max_prediction = max(sad_predictions)\n",
    "happy_diagnosis = \"depressed\" if happy_max_prediction > 0.5 else \"not depressed\"\n",
    "sad_diagnosis = \"depressed\" if sad_max_prediction > 0.5 else \"not depressed\"\n",
    "\n",
    "# Print the diagnoses and the confidence levels\n",
    "print(\"PsyVBot: Based on the information you've provided, it appears that you are\", happy_diagnosis, \"with a confidence level of\", happy_max_prediction, \"for the happy input list.\")\n",
    "print(\"PsyVBot: Based on the information you've provided, it appears that you are\", sad_diagnosis, \"with a confidence level of\", sad_max_prediction, \"for the sad input list.\")\n",
    "\n"
   ]
  }
 ],
 "metadata": {
  "kernelspec": {
   "display_name": "Python 3.10 (tensorflow)",
   "language": "python",
   "name": "tensorflow"
  },
  "language_info": {
   "codemirror_mode": {
    "name": "ipython",
    "version": 3
   },
   "file_extension": ".py",
   "mimetype": "text/x-python",
   "name": "python",
   "nbconvert_exporter": "python",
   "pygments_lexer": "ipython3",
   "version": "3.10.10"
  },
  "orig_nbformat": 4
 },
 "nbformat": 4,
 "nbformat_minor": 2
}
