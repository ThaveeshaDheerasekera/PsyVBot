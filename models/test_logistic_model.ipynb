{
 "cells": [
  {
   "cell_type": "code",
   "execution_count": 30,
   "metadata": {},
   "outputs": [],
   "source": [
    "from sklearn.feature_extraction.text import CountVectorizer, TfidfTransformer\n",
    "from sklearn.linear_model import LogisticRegression\n",
    "from sklearn.feature_extraction.text import TfidfVectorizer"
   ]
  },
  {
   "cell_type": "code",
   "execution_count": 31,
   "metadata": {},
   "outputs": [],
   "source": [
    "sad = [\"hello\", \"i feel pretty bad today\", \"yes. i feel really depressed due to the heavy load of work', 'i have to do this thing on time. but the deadline is very close but i have a lot to do\", \"so i am doing my final year project and it takes a lot of time to do it. but since the deadline is very close i don't think i would be able to it by time\", \"i don't know what to do. i even called my friends but they also don't know what to do\"]\n",
    "\n",
    "happy = [\"i feel really enegetic today\", \"yes. i got up early in the morning. i feel really happy today\", \"today's a great day to be honest. i think it's because i slept early yesterday\", \"happy\"]"
   ]
  },
  {
   "cell_type": "code",
   "execution_count": 32,
   "metadata": {},
   "outputs": [
    {
     "ename": "TypeError",
     "evalue": "'LogisticRegression' object is not subscriptable",
     "output_type": "error",
     "traceback": [
      "\u001b[0;31m---------------------------------------------------------------------------\u001b[0m",
      "\u001b[0;31mTypeError\u001b[0m                                 Traceback (most recent call last)",
      "Cell \u001b[0;32mIn[32], line 8\u001b[0m\n\u001b[1;32m      5\u001b[0m new_input \u001b[39m=\u001b[39m [\u001b[39m\"\u001b[39m\u001b[39mhello\u001b[39m\u001b[39m\"\u001b[39m, \u001b[39m\"\u001b[39m\u001b[39mi feel pretty bad today\u001b[39m\u001b[39m\"\u001b[39m, \u001b[39m\"\u001b[39m\u001b[39myes. i feel really depressed due to the heavy load of work\u001b[39m\u001b[39m'\u001b[39m\u001b[39m, \u001b[39m\u001b[39m'\u001b[39m\u001b[39mi have to do this thing on time. but the deadline is very close but i have a lot to do\u001b[39m\u001b[39m\"\u001b[39m, \u001b[39m\"\u001b[39m\u001b[39mso i am doing my final year project and it takes a lot of time to do it. but since the deadline is very close i don\u001b[39m\u001b[39m'\u001b[39m\u001b[39mt think i would be able to it by time\u001b[39m\u001b[39m\"\u001b[39m, \u001b[39m\"\u001b[39m\u001b[39mi don\u001b[39m\u001b[39m'\u001b[39m\u001b[39mt know what to do. i even called my friends but they also don\u001b[39m\u001b[39m'\u001b[39m\u001b[39mt know what to do\u001b[39m\u001b[39m\"\u001b[39m]\n\u001b[1;32m      7\u001b[0m \u001b[39m# Transform the new input using the same pipeline as the training data\u001b[39;00m\n\u001b[0;32m----> 8\u001b[0m transformed_input \u001b[39m=\u001b[39m model[\u001b[39m'\u001b[39;49m\u001b[39mlsa\u001b[39;49m\u001b[39m'\u001b[39;49m]\u001b[39m.\u001b[39mtransform(model[\u001b[39m'\u001b[39m\u001b[39mtfidf\u001b[39m\u001b[39m'\u001b[39m]\u001b[39m.\u001b[39mtransform(new_input))\n\u001b[1;32m     10\u001b[0m \u001b[39m# Make predictions\u001b[39;00m\n\u001b[1;32m     11\u001b[0m predictions \u001b[39m=\u001b[39m model\u001b[39m.\u001b[39mpredict(transformed_input)\n",
      "\u001b[0;31mTypeError\u001b[0m: 'LogisticRegression' object is not subscriptable"
     ]
    }
   ],
   "source": [
    "import joblib\n",
    "\n",
    "model = joblib.load('/Users/thaveesha/Projects/PsyVBot/models/final_models/lsa_logistic_regression_model.joblib')\n",
    "\n",
    "new_input = [\"hello\", \"i feel pretty bad today\", \"yes. i feel really depressed due to the heavy load of work', 'i have to do this thing on time. but the deadline is very close but i have a lot to do\", \"so i am doing my final year project and it takes a lot of time to do it. but since the deadline is very close i don't think i would be able to it by time\", \"i don't know what to do. i even called my friends but they also don't know what to do\"]\n",
    "\n",
    "# Transform the new input using the same pipeline as the training data\n",
    "transformed_input = model['lsa'].transform(model['tfidf'].transform(new_input))\n",
    "\n",
    "# Make predictions\n",
    "predictions = model.predict(transformed_input)\n",
    "\n",
    "# Print the predictions\n",
    "print(predictions)\n",
    "\n"
   ]
  }
 ],
 "metadata": {
  "kernelspec": {
   "display_name": "Python 3.10 (tensorflow)",
   "language": "python",
   "name": "tensorflow"
  },
  "language_info": {
   "codemirror_mode": {
    "name": "ipython",
    "version": 3
   },
   "file_extension": ".py",
   "mimetype": "text/x-python",
   "name": "python",
   "nbconvert_exporter": "python",
   "pygments_lexer": "ipython3",
   "version": "3.10.10"
  },
  "orig_nbformat": 4
 },
 "nbformat": 4,
 "nbformat_minor": 2
}
