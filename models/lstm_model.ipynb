{
 "cells": [
  {
   "cell_type": "code",
   "execution_count": 88,
   "outputs": [],
   "source": [
    "import tensorflow as tf\n",
    "tf.config.set_visible_devices([], 'GPU')"
   ],
   "metadata": {
    "collapsed": false,
    "ExecuteTime": {
     "start_time": "2023-04-06T07:40:24.143317Z",
     "end_time": "2023-04-06T07:40:24.154549Z"
    }
   }
  },
  {
   "cell_type": "code",
   "execution_count": 89,
   "id": "eea709d9-b28a-4c07-9a42-1ca571a23452",
   "metadata": {
    "ExecuteTime": {
     "start_time": "2023-04-06T07:40:24.147338Z",
     "end_time": "2023-04-06T07:40:24.154829Z"
    }
   },
   "outputs": [],
   "source": [
    "import os\n",
    "import pandas as pd\n",
    "from keras.preprocessing.text import Tokenizer\n",
    "from keras.utils import pad_sequences\n",
    "from keras.models import Sequential\n",
    "from keras.layers import Embedding, LSTM, Dense\n",
    "from sklearn.model_selection import train_test_split\n",
    "from keras.utils import to_categorical"
   ]
  },
  {
   "cell_type": "code",
   "execution_count": 90,
   "outputs": [],
   "source": [
    "# Load the dataset\n",
    "df = pd.read_csv('../datasets/cleaned_twitter_dataset.csv')\n",
    "df.columns = ['score', 'text',]"
   ],
   "metadata": {
    "collapsed": false,
    "ExecuteTime": {
     "start_time": "2023-04-06T07:40:24.150160Z",
     "end_time": "2023-04-06T07:40:26.097789Z"
    }
   }
  },
  {
   "cell_type": "code",
   "execution_count": 91,
   "outputs": [
    {
     "data": {
      "text/plain": "   score                                               text\n0      0  ['kenichan', 'dived', 'many', 'time', 'ball', ...\n1      0  ['whole', 'body', 'feel', 'itchy', 'like', 'fi...\n2      0  ['nationwideclass', 'behaving', 'im', 'mad', '...\n3      0                      ['kwesidei', 'whole', 'crew']\n4      0                                    ['need', 'hug']",
      "text/html": "<div>\n<style scoped>\n    .dataframe tbody tr th:only-of-type {\n        vertical-align: middle;\n    }\n\n    .dataframe tbody tr th {\n        vertical-align: top;\n    }\n\n    .dataframe thead th {\n        text-align: right;\n    }\n</style>\n<table border=\"1\" class=\"dataframe\">\n  <thead>\n    <tr style=\"text-align: right;\">\n      <th></th>\n      <th>score</th>\n      <th>text</th>\n    </tr>\n  </thead>\n  <tbody>\n    <tr>\n      <th>0</th>\n      <td>0</td>\n      <td>['kenichan', 'dived', 'many', 'time', 'ball', ...</td>\n    </tr>\n    <tr>\n      <th>1</th>\n      <td>0</td>\n      <td>['whole', 'body', 'feel', 'itchy', 'like', 'fi...</td>\n    </tr>\n    <tr>\n      <th>2</th>\n      <td>0</td>\n      <td>['nationwideclass', 'behaving', 'im', 'mad', '...</td>\n    </tr>\n    <tr>\n      <th>3</th>\n      <td>0</td>\n      <td>['kwesidei', 'whole', 'crew']</td>\n    </tr>\n    <tr>\n      <th>4</th>\n      <td>0</td>\n      <td>['need', 'hug']</td>\n    </tr>\n  </tbody>\n</table>\n</div>"
     },
     "execution_count": 91,
     "metadata": {},
     "output_type": "execute_result"
    }
   ],
   "source": [
    "df.head()"
   ],
   "metadata": {
    "collapsed": false,
    "ExecuteTime": {
     "start_time": "2023-04-06T07:40:26.102005Z",
     "end_time": "2023-04-06T07:40:26.105009Z"
    }
   }
  },
  {
   "cell_type": "code",
   "execution_count": 92,
   "outputs": [
    {
     "data": {
      "text/plain": "(1599998, 2)"
     },
     "execution_count": 92,
     "metadata": {},
     "output_type": "execute_result"
    }
   ],
   "source": [
    "df.shape"
   ],
   "metadata": {
    "collapsed": false,
    "ExecuteTime": {
     "start_time": "2023-04-06T07:40:26.104036Z",
     "end_time": "2023-04-06T07:40:26.109308Z"
    }
   }
  },
  {
   "cell_type": "code",
   "execution_count": 93,
   "outputs": [
    {
     "data": {
      "text/plain": "score    0\ntext     0\ndtype: int64"
     },
     "execution_count": 93,
     "metadata": {},
     "output_type": "execute_result"
    }
   ],
   "source": [
    "# count missing values by colum\n",
    "df.isnull().sum()"
   ],
   "metadata": {
    "collapsed": false,
    "ExecuteTime": {
     "start_time": "2023-04-06T07:40:26.110381Z",
     "end_time": "2023-04-06T07:40:26.335878Z"
    }
   }
  },
  {
   "cell_type": "code",
   "execution_count": 94,
   "outputs": [
    {
     "data": {
      "text/plain": "(1599998, 2)"
     },
     "execution_count": 94,
     "metadata": {},
     "output_type": "execute_result"
    }
   ],
   "source": [
    "# Remove rows with missing values\n",
    "df = df.dropna(subset=['score', 'text'])\n",
    "df.shape"
   ],
   "metadata": {
    "collapsed": false,
    "ExecuteTime": {
     "start_time": "2023-04-06T07:40:26.335079Z",
     "end_time": "2023-04-06T07:40:26.688666Z"
    }
   }
  },
  {
   "cell_type": "code",
   "execution_count": 95,
   "outputs": [
    {
     "data": {
      "text/plain": "score          2\ntext     1553368\ndtype: int64"
     },
     "execution_count": 95,
     "metadata": {},
     "output_type": "execute_result"
    }
   ],
   "source": [
    "df.nunique()"
   ],
   "metadata": {
    "collapsed": false,
    "ExecuteTime": {
     "start_time": "2023-04-06T07:40:26.603798Z",
     "end_time": "2023-04-06T07:40:27.549266Z"
    }
   }
  },
  {
   "cell_type": "code",
   "execution_count": 96,
   "outputs": [
    {
     "data": {
      "text/plain": "2"
     },
     "execution_count": 96,
     "metadata": {},
     "output_type": "execute_result"
    }
   ],
   "source": [
    "df['score'].nunique()"
   ],
   "metadata": {
    "collapsed": false,
    "ExecuteTime": {
     "start_time": "2023-04-06T07:40:27.551007Z",
     "end_time": "2023-04-06T07:40:27.560506Z"
    }
   }
  },
  {
   "cell_type": "code",
   "execution_count": 97,
   "outputs": [
    {
     "data": {
      "text/plain": "array([0, 4])"
     },
     "execution_count": 97,
     "metadata": {},
     "output_type": "execute_result"
    }
   ],
   "source": [
    "df['score'].unique()"
   ],
   "metadata": {
    "collapsed": false,
    "ExecuteTime": {
     "start_time": "2023-04-06T07:40:27.563968Z",
     "end_time": "2023-04-06T07:40:27.593798Z"
    }
   }
  },
  {
   "cell_type": "code",
   "execution_count": 98,
   "outputs": [
    {
     "data": {
      "text/plain": "         score                                               text\n1599993      1      ['woke', 'school', 'best', 'feeling', 'ever']\n1599994      1  ['thewdbcom', 'cool', 'hear', 'old', 'walt', '...\n1599995      1     ['ready', 'mojo', 'makeover', 'ask', 'detail']\n1599996      1  ['happy', '38th', 'birthday', 'boo', 'alll', '...\n1599997      1  ['happy', 'charitytuesday', 'thenspcc', 'spark...",
      "text/html": "<div>\n<style scoped>\n    .dataframe tbody tr th:only-of-type {\n        vertical-align: middle;\n    }\n\n    .dataframe tbody tr th {\n        vertical-align: top;\n    }\n\n    .dataframe thead th {\n        text-align: right;\n    }\n</style>\n<table border=\"1\" class=\"dataframe\">\n  <thead>\n    <tr style=\"text-align: right;\">\n      <th></th>\n      <th>score</th>\n      <th>text</th>\n    </tr>\n  </thead>\n  <tbody>\n    <tr>\n      <th>1599993</th>\n      <td>1</td>\n      <td>['woke', 'school', 'best', 'feeling', 'ever']</td>\n    </tr>\n    <tr>\n      <th>1599994</th>\n      <td>1</td>\n      <td>['thewdbcom', 'cool', 'hear', 'old', 'walt', '...</td>\n    </tr>\n    <tr>\n      <th>1599995</th>\n      <td>1</td>\n      <td>['ready', 'mojo', 'makeover', 'ask', 'detail']</td>\n    </tr>\n    <tr>\n      <th>1599996</th>\n      <td>1</td>\n      <td>['happy', '38th', 'birthday', 'boo', 'alll', '...</td>\n    </tr>\n    <tr>\n      <th>1599997</th>\n      <td>1</td>\n      <td>['happy', 'charitytuesday', 'thenspcc', 'spark...</td>\n    </tr>\n  </tbody>\n</table>\n</div>"
     },
     "execution_count": 98,
     "metadata": {},
     "output_type": "execute_result"
    }
   ],
   "source": [
    "df['score'] = df['score'].replace(4, 1)\n",
    "df.tail()"
   ],
   "metadata": {
    "collapsed": false,
    "ExecuteTime": {
     "start_time": "2023-04-06T07:40:27.575776Z",
     "end_time": "2023-04-06T07:40:27.599660Z"
    }
   }
  },
  {
   "cell_type": "code",
   "execution_count": 99,
   "outputs": [
    {
     "data": {
      "text/plain": "array([0, 1])"
     },
     "execution_count": 99,
     "metadata": {},
     "output_type": "execute_result"
    }
   ],
   "source": [
    "df['score'].unique()"
   ],
   "metadata": {
    "collapsed": false,
    "ExecuteTime": {
     "start_time": "2023-04-06T07:40:27.589610Z",
     "end_time": "2023-04-06T07:40:27.600048Z"
    }
   }
  },
  {
   "cell_type": "code",
   "execution_count": 100,
   "outputs": [],
   "source": [
    "# Split the dataset into training and testing sets\n",
    "df_train, df_test = train_test_split(df, test_size=0.2, random_state=42)"
   ],
   "metadata": {
    "collapsed": false,
    "ExecuteTime": {
     "start_time": "2023-04-06T07:40:27.601461Z",
     "end_time": "2023-04-06T07:40:27.770999Z"
    }
   }
  },
  {
   "cell_type": "code",
   "execution_count": 101,
   "outputs": [],
   "source": [
    "# Tokenize the text data\n",
    "tokenizer = Tokenizer(num_words=200000, split=' ')\n",
    "tokenizer.fit_on_texts(df_train['text'].values)"
   ],
   "metadata": {
    "collapsed": false,
    "ExecuteTime": {
     "start_time": "2023-04-06T07:40:27.818935Z",
     "end_time": "2023-04-06T07:40:45.079216Z"
    }
   }
  },
  {
   "cell_type": "code",
   "execution_count": 102,
   "outputs": [],
   "source": [
    "# Convert the text data to sequences and pad them\n",
    "max_len = max([len(s.split()) for s in df_train['text'].values])\n",
    "x_train = pad_sequences(tokenizer.texts_to_sequences(df_train['text'].values), maxlen=max_len)\n",
    "x_test = pad_sequences(tokenizer.texts_to_sequences(df_test['text'].values), maxlen=max_len)"
   ],
   "metadata": {
    "collapsed": false,
    "ExecuteTime": {
     "start_time": "2023-04-06T07:40:45.135228Z",
     "end_time": "2023-04-06T07:41:04.578994Z"
    }
   }
  },
  {
   "cell_type": "code",
   "execution_count": 103,
   "outputs": [],
   "source": [
    "# Get the target variables\n",
    "y_train = df_train['score']\n",
    "y_test = df_test['score']"
   ],
   "metadata": {
    "collapsed": false,
    "ExecuteTime": {
     "start_time": "2023-04-06T07:41:04.579167Z",
     "end_time": "2023-04-06T07:41:04.581647Z"
    }
   }
  },
  {
   "cell_type": "code",
   "execution_count": 104,
   "outputs": [],
   "source": [
    "# Define the model architecture\n",
    "model = Sequential()\n",
    "model.add(Embedding(input_dim=200000, output_dim=128, input_length=max_len))\n",
    "model.add(LSTM(128, dropout=0.2, recurrent_dropout=0.2))\n",
    "model.add(Dense(1, activation='sigmoid'))\n",
    "model.compile(loss='binary_crossentropy', optimizer='adam', metrics=['accuracy'])"
   ],
   "metadata": {
    "collapsed": false,
    "ExecuteTime": {
     "start_time": "2023-04-06T07:41:04.582615Z",
     "end_time": "2023-04-06T07:41:04.702577Z"
    }
   }
  },
  {
   "cell_type": "code",
   "execution_count": 105,
   "outputs": [
    {
     "name": "stdout",
     "output_type": "stream",
     "text": [
      "Epoch 1/10\n",
      "1000/1000 [==============================] - 273s 272ms/step - loss: 0.5221 - accuracy: 0.7375 - val_loss: 0.4898 - val_accuracy: 0.7630\n",
      "Epoch 2/10\n",
      "1000/1000 [==============================] - 274s 274ms/step - loss: 0.4834 - accuracy: 0.7675 - val_loss: 0.4768 - val_accuracy: 0.7691\n",
      "Epoch 3/10\n",
      "1000/1000 [==============================] - 273s 273ms/step - loss: 0.4678 - accuracy: 0.7762 - val_loss: 0.4651 - val_accuracy: 0.7765\n",
      "Epoch 4/10\n",
      "1000/1000 [==============================] - 275s 275ms/step - loss: 0.4580 - accuracy: 0.7836 - val_loss: 0.4577 - val_accuracy: 0.7822\n",
      "Epoch 5/10\n",
      "1000/1000 [==============================] - 275s 275ms/step - loss: 0.4605 - accuracy: 0.7806 - val_loss: 0.4545 - val_accuracy: 0.7857\n",
      "Epoch 6/10\n",
      "1000/1000 [==============================] - 278s 278ms/step - loss: 0.4522 - accuracy: 0.7862 - val_loss: 0.4509 - val_accuracy: 0.7872\n",
      "Epoch 7/10\n",
      "1000/1000 [==============================] - 274s 274ms/step - loss: 0.4531 - accuracy: 0.7853 - val_loss: 0.4477 - val_accuracy: 0.7879\n",
      "Epoch 8/10\n",
      "1000/1000 [==============================] - 272s 272ms/step - loss: 0.4478 - accuracy: 0.7885 - val_loss: 0.4455 - val_accuracy: 0.7916\n",
      "Epoch 9/10\n",
      "1000/1000 [==============================] - 278s 278ms/step - loss: 0.4459 - accuracy: 0.7912 - val_loss: 0.4434 - val_accuracy: 0.7926\n",
      "Epoch 10/10\n",
      "1000/1000 [==============================] - 2514s 3s/step - loss: 0.4427 - accuracy: 0.7911 - val_loss: 0.4440 - val_accuracy: 0.7895\n"
     ]
    },
    {
     "data": {
      "text/plain": "<keras.callbacks.History at 0x3249bc9d0>"
     },
     "execution_count": 105,
     "metadata": {},
     "output_type": "execute_result"
    }
   ],
   "source": [
    "# Fit the model to the training data\n",
    "os.environ['TF_METAL_DEVICE_PLACEMENT'] = 'metal:0'\n",
    "os.environ['TF_CPP_MIN_LOG_LEVEL'] = '3'\n",
    "\n",
    "# Reduce the number of samples used per epoch to 1000\n",
    "batch_size = 64\n",
    "steps_per_epoch = 1000\n",
    "num_epochs = 10\n",
    "\n",
    "model.fit(x_train, y_train, validation_split=0.1, batch_size=batch_size, epochs=num_epochs, steps_per_epoch=steps_per_epoch)"
   ],
   "metadata": {
    "collapsed": false,
    "ExecuteTime": {
     "start_time": "2023-04-06T07:41:04.705488Z",
     "end_time": "2023-04-06T09:04:11.105059Z"
    }
   }
  },
  {
   "cell_type": "code",
   "execution_count": 106,
   "outputs": [],
   "source": [
    "# Save model\n",
    "model.save('final_models/lstm_e10_b64.h5')"
   ],
   "metadata": {
    "collapsed": false,
    "ExecuteTime": {
     "start_time": "2023-04-06T07:40:24.130750Z",
     "end_time": "2023-04-06T09:04:11.274590Z"
    }
   }
  },
  {
   "cell_type": "code",
   "execution_count": 107,
   "outputs": [
    {
     "name": "stdout",
     "output_type": "stream",
     "text": [
      "Accuracy: 79.092187\n",
      "Loss: 44.400445\n"
     ]
    }
   ],
   "source": [
    "# Evaluate model\n",
    "loss, accuracy = model.evaluate(x_test, y_test, verbose=0)\n",
    "print('Accuracy: %f' % (accuracy*100))\n",
    "print('Loss: %f' % (loss*100))"
   ],
   "metadata": {
    "collapsed": false,
    "ExecuteTime": {
     "start_time": "2023-04-06T07:40:24.130773Z",
     "end_time": "2023-04-06T11:34:04.928370Z"
    }
   }
  },
  {
   "cell_type": "code",
   "execution_count": 108,
   "outputs": [
    {
     "ename": "InvalidArgumentError",
     "evalue": "Graph execution error:\n\nDetected at node 'sequential/embedding/embedding_lookup' defined at (most recent call last):\n    File \"/Users/thaveesha/Developer/miniconda3/envs/tensorflow/lib/python3.10/runpy.py\", line 196, in _run_module_as_main\n      return _run_code(code, main_globals, None,\n    File \"/Users/thaveesha/Developer/miniconda3/envs/tensorflow/lib/python3.10/runpy.py\", line 86, in _run_code\n      exec(code, run_globals)\n    File \"/Users/thaveesha/Developer/miniconda3/envs/tensorflow/lib/python3.10/site-packages/ipykernel_launcher.py\", line 17, in <module>\n      app.launch_new_instance()\n    File \"/Users/thaveesha/Developer/miniconda3/envs/tensorflow/lib/python3.10/site-packages/traitlets/config/application.py\", line 1043, in launch_instance\n      app.start()\n    File \"/Users/thaveesha/Developer/miniconda3/envs/tensorflow/lib/python3.10/site-packages/ipykernel/kernelapp.py\", line 725, in start\n      self.io_loop.start()\n    File \"/Users/thaveesha/Developer/miniconda3/envs/tensorflow/lib/python3.10/site-packages/tornado/platform/asyncio.py\", line 215, in start\n      self.asyncio_loop.run_forever()\n    File \"/Users/thaveesha/Developer/miniconda3/envs/tensorflow/lib/python3.10/asyncio/base_events.py\", line 603, in run_forever\n      self._run_once()\n    File \"/Users/thaveesha/Developer/miniconda3/envs/tensorflow/lib/python3.10/asyncio/base_events.py\", line 1909, in _run_once\n      handle._run()\n    File \"/Users/thaveesha/Developer/miniconda3/envs/tensorflow/lib/python3.10/asyncio/events.py\", line 80, in _run\n      self._context.run(self._callback, *self._args)\n    File \"/Users/thaveesha/Developer/miniconda3/envs/tensorflow/lib/python3.10/site-packages/ipykernel/kernelbase.py\", line 513, in dispatch_queue\n      await self.process_one()\n    File \"/Users/thaveesha/Developer/miniconda3/envs/tensorflow/lib/python3.10/site-packages/ipykernel/kernelbase.py\", line 502, in process_one\n      await dispatch(*args)\n    File \"/Users/thaveesha/Developer/miniconda3/envs/tensorflow/lib/python3.10/site-packages/ipykernel/kernelbase.py\", line 409, in dispatch_shell\n      await result\n    File \"/Users/thaveesha/Developer/miniconda3/envs/tensorflow/lib/python3.10/site-packages/ipykernel/kernelbase.py\", line 729, in execute_request\n      reply_content = await reply_content\n    File \"/Users/thaveesha/Developer/miniconda3/envs/tensorflow/lib/python3.10/site-packages/ipykernel/ipkernel.py\", line 422, in do_execute\n      res = shell.run_cell(\n    File \"/Users/thaveesha/Developer/miniconda3/envs/tensorflow/lib/python3.10/site-packages/ipykernel/zmqshell.py\", line 540, in run_cell\n      return super().run_cell(*args, **kwargs)\n    File \"/Users/thaveesha/Developer/miniconda3/envs/tensorflow/lib/python3.10/site-packages/IPython/core/interactiveshell.py\", line 2961, in run_cell\n      result = self._run_cell(\n    File \"/Users/thaveesha/Developer/miniconda3/envs/tensorflow/lib/python3.10/site-packages/IPython/core/interactiveshell.py\", line 3016, in _run_cell\n      result = runner(coro)\n    File \"/Users/thaveesha/Developer/miniconda3/envs/tensorflow/lib/python3.10/site-packages/IPython/core/async_helpers.py\", line 129, in _pseudo_sync_runner\n      coro.send(None)\n    File \"/Users/thaveesha/Developer/miniconda3/envs/tensorflow/lib/python3.10/site-packages/IPython/core/interactiveshell.py\", line 3221, in run_cell_async\n      has_raised = await self.run_ast_nodes(code_ast.body, cell_name,\n    File \"/Users/thaveesha/Developer/miniconda3/envs/tensorflow/lib/python3.10/site-packages/IPython/core/interactiveshell.py\", line 3400, in run_ast_nodes\n      if await self.run_code(code, result, async_=asy):\n    File \"/Users/thaveesha/Developer/miniconda3/envs/tensorflow/lib/python3.10/site-packages/IPython/core/interactiveshell.py\", line 3460, in run_code\n      exec(code_obj, self.user_global_ns, self.user_ns)\n    File \"/var/folders/yh/hy8tkdbn4jjcx_sdz_6sjp280000gn/T/ipykernel_2876/3231532604.py\", line 6, in <module>\n      y_pred = model.predict(x_test)\n    File \"/Users/thaveesha/Developer/miniconda3/envs/tensorflow/lib/python3.10/site-packages/keras/utils/traceback_utils.py\", line 65, in error_handler\n      return fn(*args, **kwargs)\n    File \"/Users/thaveesha/Developer/miniconda3/envs/tensorflow/lib/python3.10/site-packages/keras/engine/training.py\", line 2382, in predict\n      tmp_batch_outputs = self.predict_function(iterator)\n    File \"/Users/thaveesha/Developer/miniconda3/envs/tensorflow/lib/python3.10/site-packages/keras/engine/training.py\", line 2169, in predict_function\n      return step_function(self, iterator)\n    File \"/Users/thaveesha/Developer/miniconda3/envs/tensorflow/lib/python3.10/site-packages/keras/engine/training.py\", line 2155, in step_function\n      outputs = model.distribute_strategy.run(run_step, args=(data,))\n    File \"/Users/thaveesha/Developer/miniconda3/envs/tensorflow/lib/python3.10/site-packages/keras/engine/training.py\", line 2143, in run_step\n      outputs = model.predict_step(data)\n    File \"/Users/thaveesha/Developer/miniconda3/envs/tensorflow/lib/python3.10/site-packages/keras/engine/training.py\", line 2111, in predict_step\n      return self(x, training=False)\n    File \"/Users/thaveesha/Developer/miniconda3/envs/tensorflow/lib/python3.10/site-packages/keras/utils/traceback_utils.py\", line 65, in error_handler\n      return fn(*args, **kwargs)\n    File \"/Users/thaveesha/Developer/miniconda3/envs/tensorflow/lib/python3.10/site-packages/keras/engine/training.py\", line 558, in __call__\n      return super().__call__(*args, **kwargs)\n    File \"/Users/thaveesha/Developer/miniconda3/envs/tensorflow/lib/python3.10/site-packages/keras/utils/traceback_utils.py\", line 65, in error_handler\n      return fn(*args, **kwargs)\n    File \"/Users/thaveesha/Developer/miniconda3/envs/tensorflow/lib/python3.10/site-packages/keras/engine/base_layer.py\", line 1145, in __call__\n      outputs = call_fn(inputs, *args, **kwargs)\n    File \"/Users/thaveesha/Developer/miniconda3/envs/tensorflow/lib/python3.10/site-packages/keras/utils/traceback_utils.py\", line 96, in error_handler\n      return fn(*args, **kwargs)\n    File \"/Users/thaveesha/Developer/miniconda3/envs/tensorflow/lib/python3.10/site-packages/keras/engine/sequential.py\", line 412, in call\n      return super().call(inputs, training=training, mask=mask)\n    File \"/Users/thaveesha/Developer/miniconda3/envs/tensorflow/lib/python3.10/site-packages/keras/engine/functional.py\", line 512, in call\n      return self._run_internal_graph(inputs, training=training, mask=mask)\n    File \"/Users/thaveesha/Developer/miniconda3/envs/tensorflow/lib/python3.10/site-packages/keras/engine/functional.py\", line 669, in _run_internal_graph\n      outputs = node.layer(*args, **kwargs)\n    File \"/Users/thaveesha/Developer/miniconda3/envs/tensorflow/lib/python3.10/site-packages/keras/utils/traceback_utils.py\", line 65, in error_handler\n      return fn(*args, **kwargs)\n    File \"/Users/thaveesha/Developer/miniconda3/envs/tensorflow/lib/python3.10/site-packages/keras/engine/base_layer.py\", line 1145, in __call__\n      outputs = call_fn(inputs, *args, **kwargs)\n    File \"/Users/thaveesha/Developer/miniconda3/envs/tensorflow/lib/python3.10/site-packages/keras/utils/traceback_utils.py\", line 96, in error_handler\n      return fn(*args, **kwargs)\n    File \"/Users/thaveesha/Developer/miniconda3/envs/tensorflow/lib/python3.10/site-packages/keras/layers/core/embedding.py\", line 272, in call\n      out = tf.nn.embedding_lookup(self.embeddings, inputs)\nNode: 'sequential/embedding/embedding_lookup'\nindices[30,51] = 116358 is not in [0, 5000)\n\t [[{{node sequential/embedding/embedding_lookup}}]] [Op:__inference_predict_function_177361]",
     "output_type": "error",
     "traceback": [
      "\u001B[0;31m---------------------------------------------------------------------------\u001B[0m",
      "\u001B[0;31mInvalidArgumentError\u001B[0m                      Traceback (most recent call last)",
      "Cell \u001B[0;32mIn[108], line 6\u001B[0m\n\u001B[1;32m      3\u001B[0m model \u001B[38;5;241m=\u001B[39m load_model(\u001B[38;5;124m'\u001B[39m\u001B[38;5;124mfinal_models/lstm_e10_b128_p20.h5\u001B[39m\u001B[38;5;124m'\u001B[39m)\n\u001B[1;32m      5\u001B[0m \u001B[38;5;66;03m# make predictions\u001B[39;00m\n\u001B[0;32m----> 6\u001B[0m y_pred \u001B[38;5;241m=\u001B[39m \u001B[43mmodel\u001B[49m\u001B[38;5;241;43m.\u001B[39;49m\u001B[43mpredict\u001B[49m\u001B[43m(\u001B[49m\u001B[43mx_test\u001B[49m\u001B[43m)\u001B[49m\n",
      "File \u001B[0;32m~/Developer/miniconda3/envs/tensorflow/lib/python3.10/site-packages/keras/utils/traceback_utils.py:70\u001B[0m, in \u001B[0;36mfilter_traceback.<locals>.error_handler\u001B[0;34m(*args, **kwargs)\u001B[0m\n\u001B[1;32m     67\u001B[0m     filtered_tb \u001B[38;5;241m=\u001B[39m _process_traceback_frames(e\u001B[38;5;241m.\u001B[39m__traceback__)\n\u001B[1;32m     68\u001B[0m     \u001B[38;5;66;03m# To get the full stack trace, call:\u001B[39;00m\n\u001B[1;32m     69\u001B[0m     \u001B[38;5;66;03m# `tf.debugging.disable_traceback_filtering()`\u001B[39;00m\n\u001B[0;32m---> 70\u001B[0m     \u001B[38;5;28;01mraise\u001B[39;00m e\u001B[38;5;241m.\u001B[39mwith_traceback(filtered_tb) \u001B[38;5;28;01mfrom\u001B[39;00m \u001B[38;5;28mNone\u001B[39m\n\u001B[1;32m     71\u001B[0m \u001B[38;5;28;01mfinally\u001B[39;00m:\n\u001B[1;32m     72\u001B[0m     \u001B[38;5;28;01mdel\u001B[39;00m filtered_tb\n",
      "File \u001B[0;32m~/Developer/miniconda3/envs/tensorflow/lib/python3.10/site-packages/tensorflow/python/eager/execute.py:52\u001B[0m, in \u001B[0;36mquick_execute\u001B[0;34m(op_name, num_outputs, inputs, attrs, ctx, name)\u001B[0m\n\u001B[1;32m     50\u001B[0m \u001B[38;5;28;01mtry\u001B[39;00m:\n\u001B[1;32m     51\u001B[0m   ctx\u001B[38;5;241m.\u001B[39mensure_initialized()\n\u001B[0;32m---> 52\u001B[0m   tensors \u001B[38;5;241m=\u001B[39m pywrap_tfe\u001B[38;5;241m.\u001B[39mTFE_Py_Execute(ctx\u001B[38;5;241m.\u001B[39m_handle, device_name, op_name,\n\u001B[1;32m     53\u001B[0m                                       inputs, attrs, num_outputs)\n\u001B[1;32m     54\u001B[0m \u001B[38;5;28;01mexcept\u001B[39;00m core\u001B[38;5;241m.\u001B[39m_NotOkStatusException \u001B[38;5;28;01mas\u001B[39;00m e:\n\u001B[1;32m     55\u001B[0m   \u001B[38;5;28;01mif\u001B[39;00m name \u001B[38;5;129;01mis\u001B[39;00m \u001B[38;5;129;01mnot\u001B[39;00m \u001B[38;5;28;01mNone\u001B[39;00m:\n",
      "\u001B[0;31mInvalidArgumentError\u001B[0m: Graph execution error:\n\nDetected at node 'sequential/embedding/embedding_lookup' defined at (most recent call last):\n    File \"/Users/thaveesha/Developer/miniconda3/envs/tensorflow/lib/python3.10/runpy.py\", line 196, in _run_module_as_main\n      return _run_code(code, main_globals, None,\n    File \"/Users/thaveesha/Developer/miniconda3/envs/tensorflow/lib/python3.10/runpy.py\", line 86, in _run_code\n      exec(code, run_globals)\n    File \"/Users/thaveesha/Developer/miniconda3/envs/tensorflow/lib/python3.10/site-packages/ipykernel_launcher.py\", line 17, in <module>\n      app.launch_new_instance()\n    File \"/Users/thaveesha/Developer/miniconda3/envs/tensorflow/lib/python3.10/site-packages/traitlets/config/application.py\", line 1043, in launch_instance\n      app.start()\n    File \"/Users/thaveesha/Developer/miniconda3/envs/tensorflow/lib/python3.10/site-packages/ipykernel/kernelapp.py\", line 725, in start\n      self.io_loop.start()\n    File \"/Users/thaveesha/Developer/miniconda3/envs/tensorflow/lib/python3.10/site-packages/tornado/platform/asyncio.py\", line 215, in start\n      self.asyncio_loop.run_forever()\n    File \"/Users/thaveesha/Developer/miniconda3/envs/tensorflow/lib/python3.10/asyncio/base_events.py\", line 603, in run_forever\n      self._run_once()\n    File \"/Users/thaveesha/Developer/miniconda3/envs/tensorflow/lib/python3.10/asyncio/base_events.py\", line 1909, in _run_once\n      handle._run()\n    File \"/Users/thaveesha/Developer/miniconda3/envs/tensorflow/lib/python3.10/asyncio/events.py\", line 80, in _run\n      self._context.run(self._callback, *self._args)\n    File \"/Users/thaveesha/Developer/miniconda3/envs/tensorflow/lib/python3.10/site-packages/ipykernel/kernelbase.py\", line 513, in dispatch_queue\n      await self.process_one()\n    File \"/Users/thaveesha/Developer/miniconda3/envs/tensorflow/lib/python3.10/site-packages/ipykernel/kernelbase.py\", line 502, in process_one\n      await dispatch(*args)\n    File \"/Users/thaveesha/Developer/miniconda3/envs/tensorflow/lib/python3.10/site-packages/ipykernel/kernelbase.py\", line 409, in dispatch_shell\n      await result\n    File \"/Users/thaveesha/Developer/miniconda3/envs/tensorflow/lib/python3.10/site-packages/ipykernel/kernelbase.py\", line 729, in execute_request\n      reply_content = await reply_content\n    File \"/Users/thaveesha/Developer/miniconda3/envs/tensorflow/lib/python3.10/site-packages/ipykernel/ipkernel.py\", line 422, in do_execute\n      res = shell.run_cell(\n    File \"/Users/thaveesha/Developer/miniconda3/envs/tensorflow/lib/python3.10/site-packages/ipykernel/zmqshell.py\", line 540, in run_cell\n      return super().run_cell(*args, **kwargs)\n    File \"/Users/thaveesha/Developer/miniconda3/envs/tensorflow/lib/python3.10/site-packages/IPython/core/interactiveshell.py\", line 2961, in run_cell\n      result = self._run_cell(\n    File \"/Users/thaveesha/Developer/miniconda3/envs/tensorflow/lib/python3.10/site-packages/IPython/core/interactiveshell.py\", line 3016, in _run_cell\n      result = runner(coro)\n    File \"/Users/thaveesha/Developer/miniconda3/envs/tensorflow/lib/python3.10/site-packages/IPython/core/async_helpers.py\", line 129, in _pseudo_sync_runner\n      coro.send(None)\n    File \"/Users/thaveesha/Developer/miniconda3/envs/tensorflow/lib/python3.10/site-packages/IPython/core/interactiveshell.py\", line 3221, in run_cell_async\n      has_raised = await self.run_ast_nodes(code_ast.body, cell_name,\n    File \"/Users/thaveesha/Developer/miniconda3/envs/tensorflow/lib/python3.10/site-packages/IPython/core/interactiveshell.py\", line 3400, in run_ast_nodes\n      if await self.run_code(code, result, async_=asy):\n    File \"/Users/thaveesha/Developer/miniconda3/envs/tensorflow/lib/python3.10/site-packages/IPython/core/interactiveshell.py\", line 3460, in run_code\n      exec(code_obj, self.user_global_ns, self.user_ns)\n    File \"/var/folders/yh/hy8tkdbn4jjcx_sdz_6sjp280000gn/T/ipykernel_2876/3231532604.py\", line 6, in <module>\n      y_pred = model.predict(x_test)\n    File \"/Users/thaveesha/Developer/miniconda3/envs/tensorflow/lib/python3.10/site-packages/keras/utils/traceback_utils.py\", line 65, in error_handler\n      return fn(*args, **kwargs)\n    File \"/Users/thaveesha/Developer/miniconda3/envs/tensorflow/lib/python3.10/site-packages/keras/engine/training.py\", line 2382, in predict\n      tmp_batch_outputs = self.predict_function(iterator)\n    File \"/Users/thaveesha/Developer/miniconda3/envs/tensorflow/lib/python3.10/site-packages/keras/engine/training.py\", line 2169, in predict_function\n      return step_function(self, iterator)\n    File \"/Users/thaveesha/Developer/miniconda3/envs/tensorflow/lib/python3.10/site-packages/keras/engine/training.py\", line 2155, in step_function\n      outputs = model.distribute_strategy.run(run_step, args=(data,))\n    File \"/Users/thaveesha/Developer/miniconda3/envs/tensorflow/lib/python3.10/site-packages/keras/engine/training.py\", line 2143, in run_step\n      outputs = model.predict_step(data)\n    File \"/Users/thaveesha/Developer/miniconda3/envs/tensorflow/lib/python3.10/site-packages/keras/engine/training.py\", line 2111, in predict_step\n      return self(x, training=False)\n    File \"/Users/thaveesha/Developer/miniconda3/envs/tensorflow/lib/python3.10/site-packages/keras/utils/traceback_utils.py\", line 65, in error_handler\n      return fn(*args, **kwargs)\n    File \"/Users/thaveesha/Developer/miniconda3/envs/tensorflow/lib/python3.10/site-packages/keras/engine/training.py\", line 558, in __call__\n      return super().__call__(*args, **kwargs)\n    File \"/Users/thaveesha/Developer/miniconda3/envs/tensorflow/lib/python3.10/site-packages/keras/utils/traceback_utils.py\", line 65, in error_handler\n      return fn(*args, **kwargs)\n    File \"/Users/thaveesha/Developer/miniconda3/envs/tensorflow/lib/python3.10/site-packages/keras/engine/base_layer.py\", line 1145, in __call__\n      outputs = call_fn(inputs, *args, **kwargs)\n    File \"/Users/thaveesha/Developer/miniconda3/envs/tensorflow/lib/python3.10/site-packages/keras/utils/traceback_utils.py\", line 96, in error_handler\n      return fn(*args, **kwargs)\n    File \"/Users/thaveesha/Developer/miniconda3/envs/tensorflow/lib/python3.10/site-packages/keras/engine/sequential.py\", line 412, in call\n      return super().call(inputs, training=training, mask=mask)\n    File \"/Users/thaveesha/Developer/miniconda3/envs/tensorflow/lib/python3.10/site-packages/keras/engine/functional.py\", line 512, in call\n      return self._run_internal_graph(inputs, training=training, mask=mask)\n    File \"/Users/thaveesha/Developer/miniconda3/envs/tensorflow/lib/python3.10/site-packages/keras/engine/functional.py\", line 669, in _run_internal_graph\n      outputs = node.layer(*args, **kwargs)\n    File \"/Users/thaveesha/Developer/miniconda3/envs/tensorflow/lib/python3.10/site-packages/keras/utils/traceback_utils.py\", line 65, in error_handler\n      return fn(*args, **kwargs)\n    File \"/Users/thaveesha/Developer/miniconda3/envs/tensorflow/lib/python3.10/site-packages/keras/engine/base_layer.py\", line 1145, in __call__\n      outputs = call_fn(inputs, *args, **kwargs)\n    File \"/Users/thaveesha/Developer/miniconda3/envs/tensorflow/lib/python3.10/site-packages/keras/utils/traceback_utils.py\", line 96, in error_handler\n      return fn(*args, **kwargs)\n    File \"/Users/thaveesha/Developer/miniconda3/envs/tensorflow/lib/python3.10/site-packages/keras/layers/core/embedding.py\", line 272, in call\n      out = tf.nn.embedding_lookup(self.embeddings, inputs)\nNode: 'sequential/embedding/embedding_lookup'\nindices[30,51] = 116358 is not in [0, 5000)\n\t [[{{node sequential/embedding/embedding_lookup}}]] [Op:__inference_predict_function_177361]"
     ]
    }
   ],
   "source": [
    "# load the saved model\n",
    "from keras.models import load_model\n",
    "model = load_model('final_models/lstm_e10_b128_p20.h5')\n",
    "\n",
    "# make predictions\n",
    "y_pred = model.predict(x_test)"
   ],
   "metadata": {
    "collapsed": false,
    "ExecuteTime": {
     "start_time": "2023-04-06T03:36:26.029059Z",
     "end_time": "2023-04-06T03:36:46.285763Z"
    }
   }
  },
  {
   "cell_type": "code",
   "execution_count": null,
   "outputs": [],
   "source": [
    "import matplotlib.pyplot as plt\n",
    "\n",
    "plt.plot(y_test, label='actual')\n",
    "plt.plot(y_pred, label='predicted')\n",
    "plt.legend()\n",
    "plt.show()"
   ],
   "metadata": {
    "collapsed": false,
    "ExecuteTime": {
     "start_time": "2023-04-06T03:36:46.286146Z",
     "end_time": "2023-04-06T03:36:48.567656Z"
    }
   }
  },
  {
   "cell_type": "code",
   "execution_count": null,
   "outputs": [],
   "source": [
    "# Make predictions\n",
    "new_sentences = ['I am feeling sad today', 'Today is a great day']\n",
    "new_sequences = tokenizer.texts_to_sequences(new_sentences)\n",
    "new_sequences = pad_sequences(new_sequences)\n",
    "predictions = model.predict(new_sequences)"
   ],
   "metadata": {
    "collapsed": false
   }
  }
 ],
 "metadata": {
  "kernelspec": {
   "display_name": "Python 3.10 (tensorflow)",
   "language": "python",
   "name": "tensorflow"
  },
  "language_info": {
   "codemirror_mode": {
    "name": "ipython",
    "version": 3
   },
   "file_extension": ".py",
   "mimetype": "text/x-python",
   "name": "python",
   "nbconvert_exporter": "python",
   "pygments_lexer": "ipython3",
   "version": "3.10.10"
  }
 },
 "nbformat": 4,
 "nbformat_minor": 5
}
