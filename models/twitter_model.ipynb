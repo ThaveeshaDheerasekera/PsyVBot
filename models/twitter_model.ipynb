{
 "cells": [
  {
   "cell_type": "code",
   "execution_count": 2,
   "id": "b657c0aa",
   "metadata": {
    "tags": [],
    "ExecuteTime": {
     "start_time": "2023-04-10T15:02:23.792449Z",
     "end_time": "2023-04-10T15:02:24.862942Z"
    }
   },
   "outputs": [],
   "source": [
    "import pandas as pd\n",
    "import nltk\n",
    "import string\n",
    "from nltk.tokenize import word_tokenize, sent_tokenize\n",
    "from nltk.corpus import stopwords\n",
    "from nltk.stem import PorterStemmer, WordNetLemmatizer\n",
    "\n",
    "path = '/Users/thaveesha/Developer/nltk_data'\n",
    "\n",
    "# nltk.download('stopwords', download_dir=path)\n",
    "# nltk.download('wordnet', download_dir=path)\n",
    "# nltk.download('punkt', download_dir=path)"
   ]
  },
  {
   "cell_type": "code",
   "execution_count": 3,
   "id": "8358672b",
   "metadata": {
    "tags": [],
    "ExecuteTime": {
     "start_time": "2023-04-10T15:02:26.439282Z",
     "end_time": "2023-04-10T15:02:29.460805Z"
    }
   },
   "outputs": [
    {
     "data": {
      "text/plain": "   target         ids                          date      flag           user  \\\n0       0  1467810672  Mon Apr 06 22:19:49 PDT 2009  NO_QUERY  scotthamilton   \n1       0  1467810917  Mon Apr 06 22:19:53 PDT 2009  NO_QUERY       mattycus   \n2       0  1467811184  Mon Apr 06 22:19:57 PDT 2009  NO_QUERY        ElleCTF   \n3       0  1467811193  Mon Apr 06 22:19:57 PDT 2009  NO_QUERY         Karoli   \n4       0  1467811372  Mon Apr 06 22:20:00 PDT 2009  NO_QUERY       joy_wolf   \n\n                                                text  \n0  is upset that he can't update his Facebook by ...  \n1  @Kenichan I dived many times for the ball. Man...  \n2    my whole body feels itchy and like its on fire   \n3  @nationwideclass no, it's not behaving at all....  \n4                      @Kwesidei not the whole crew   ",
      "text/html": "<div>\n<style scoped>\n    .dataframe tbody tr th:only-of-type {\n        vertical-align: middle;\n    }\n\n    .dataframe tbody tr th {\n        vertical-align: top;\n    }\n\n    .dataframe thead th {\n        text-align: right;\n    }\n</style>\n<table border=\"1\" class=\"dataframe\">\n  <thead>\n    <tr style=\"text-align: right;\">\n      <th></th>\n      <th>target</th>\n      <th>ids</th>\n      <th>date</th>\n      <th>flag</th>\n      <th>user</th>\n      <th>text</th>\n    </tr>\n  </thead>\n  <tbody>\n    <tr>\n      <th>0</th>\n      <td>0</td>\n      <td>1467810672</td>\n      <td>Mon Apr 06 22:19:49 PDT 2009</td>\n      <td>NO_QUERY</td>\n      <td>scotthamilton</td>\n      <td>is upset that he can't update his Facebook by ...</td>\n    </tr>\n    <tr>\n      <th>1</th>\n      <td>0</td>\n      <td>1467810917</td>\n      <td>Mon Apr 06 22:19:53 PDT 2009</td>\n      <td>NO_QUERY</td>\n      <td>mattycus</td>\n      <td>@Kenichan I dived many times for the ball. Man...</td>\n    </tr>\n    <tr>\n      <th>2</th>\n      <td>0</td>\n      <td>1467811184</td>\n      <td>Mon Apr 06 22:19:57 PDT 2009</td>\n      <td>NO_QUERY</td>\n      <td>ElleCTF</td>\n      <td>my whole body feels itchy and like its on fire</td>\n    </tr>\n    <tr>\n      <th>3</th>\n      <td>0</td>\n      <td>1467811193</td>\n      <td>Mon Apr 06 22:19:57 PDT 2009</td>\n      <td>NO_QUERY</td>\n      <td>Karoli</td>\n      <td>@nationwideclass no, it's not behaving at all....</td>\n    </tr>\n    <tr>\n      <th>4</th>\n      <td>0</td>\n      <td>1467811372</td>\n      <td>Mon Apr 06 22:20:00 PDT 2009</td>\n      <td>NO_QUERY</td>\n      <td>joy_wolf</td>\n      <td>@Kwesidei not the whole crew</td>\n    </tr>\n  </tbody>\n</table>\n</div>"
     },
     "execution_count": 3,
     "metadata": {},
     "output_type": "execute_result"
    }
   ],
   "source": [
    "df = pd.read_csv('../datasets/kaggle_datasets/depression-tweets.csv', encoding='latin-1')\n",
    "df.columns = ['target', 'ids', 'date', 'flag', 'user', 'text']\n",
    "df.head()"
   ]
  },
  {
   "cell_type": "code",
   "execution_count": 4,
   "id": "360e6f5d-48b5-4fb0-9479-3380b686f91a",
   "metadata": {
    "tags": [],
    "ExecuteTime": {
     "start_time": "2023-04-10T15:02:30.503454Z",
     "end_time": "2023-04-10T15:02:30.528154Z"
    }
   },
   "outputs": [
    {
     "data": {
      "text/plain": "Index(['target', 'ids', 'date', 'flag', 'user', 'text'], dtype='object')"
     },
     "execution_count": 4,
     "metadata": {},
     "output_type": "execute_result"
    }
   ],
   "source": [
    "df.columns"
   ]
  },
  {
   "cell_type": "code",
   "execution_count": 5,
   "id": "73e12cee-1bc4-4f01-85b1-80a88e8366cf",
   "metadata": {
    "tags": [],
    "ExecuteTime": {
     "start_time": "2023-04-10T15:02:31.187074Z",
     "end_time": "2023-04-10T15:02:31.214413Z"
    }
   },
   "outputs": [
    {
     "data": {
      "text/plain": "target     int64\nids        int64\ndate      object\nflag      object\nuser      object\ntext      object\ndtype: object"
     },
     "execution_count": 5,
     "metadata": {},
     "output_type": "execute_result"
    }
   ],
   "source": [
    "df.dtypes"
   ]
  },
  {
   "cell_type": "code",
   "execution_count": 6,
   "id": "51bd9ab1-a9ec-46fa-88d9-51742d1355c4",
   "metadata": {
    "tags": [],
    "ExecuteTime": {
     "start_time": "2023-04-10T15:02:32.199869Z",
     "end_time": "2023-04-10T15:02:32.208590Z"
    }
   },
   "outputs": [
    {
     "data": {
      "text/plain": "(1599999, 6)"
     },
     "execution_count": 6,
     "metadata": {},
     "output_type": "execute_result"
    }
   ],
   "source": [
    "df.shape"
   ]
  },
  {
   "cell_type": "code",
   "execution_count": 7,
   "id": "5b05b281-5def-4d78-b6a9-1ad617c42179",
   "metadata": {
    "tags": [],
    "ExecuteTime": {
     "start_time": "2023-04-10T15:02:32.766684Z",
     "end_time": "2023-04-10T15:02:32.775691Z"
    }
   },
   "outputs": [
    {
     "data": {
      "text/plain": "array([0, 4])"
     },
     "execution_count": 7,
     "metadata": {},
     "output_type": "execute_result"
    }
   ],
   "source": [
    "df.target.unique()"
   ]
  },
  {
   "cell_type": "code",
   "execution_count": 8,
   "id": "69454d03",
   "metadata": {
    "tags": [],
    "ExecuteTime": {
     "start_time": "2023-04-10T15:02:34.137655Z",
     "end_time": "2023-04-10T15:02:34.177653Z"
    }
   },
   "outputs": [
    {
     "data": {
      "text/plain": "   target                                               text\n0       0  is upset that he can't update his Facebook by ...\n1       0  @Kenichan I dived many times for the ball. Man...\n2       0    my whole body feels itchy and like its on fire \n3       0  @nationwideclass no, it's not behaving at all....\n4       0                      @Kwesidei not the whole crew ",
      "text/html": "<div>\n<style scoped>\n    .dataframe tbody tr th:only-of-type {\n        vertical-align: middle;\n    }\n\n    .dataframe tbody tr th {\n        vertical-align: top;\n    }\n\n    .dataframe thead th {\n        text-align: right;\n    }\n</style>\n<table border=\"1\" class=\"dataframe\">\n  <thead>\n    <tr style=\"text-align: right;\">\n      <th></th>\n      <th>target</th>\n      <th>text</th>\n    </tr>\n  </thead>\n  <tbody>\n    <tr>\n      <th>0</th>\n      <td>0</td>\n      <td>is upset that he can't update his Facebook by ...</td>\n    </tr>\n    <tr>\n      <th>1</th>\n      <td>0</td>\n      <td>@Kenichan I dived many times for the ball. Man...</td>\n    </tr>\n    <tr>\n      <th>2</th>\n      <td>0</td>\n      <td>my whole body feels itchy and like its on fire</td>\n    </tr>\n    <tr>\n      <th>3</th>\n      <td>0</td>\n      <td>@nationwideclass no, it's not behaving at all....</td>\n    </tr>\n    <tr>\n      <th>4</th>\n      <td>0</td>\n      <td>@Kwesidei not the whole crew</td>\n    </tr>\n  </tbody>\n</table>\n</div>"
     },
     "execution_count": 8,
     "metadata": {},
     "output_type": "execute_result"
    }
   ],
   "source": [
    "df = df.drop(['ids', 'date', 'flag', 'user'], axis = 'columns')\n",
    "df.head()"
   ]
  },
  {
   "cell_type": "code",
   "execution_count": 9,
   "outputs": [
    {
     "data": {
      "text/plain": "                                                text  target\n0  is upset that he can't update his Facebook by ...       0\n1  @Kenichan I dived many times for the ball. Man...       0\n2    my whole body feels itchy and like its on fire        0\n3  @nationwideclass no, it's not behaving at all....       0\n4                      @Kwesidei not the whole crew        0",
      "text/html": "<div>\n<style scoped>\n    .dataframe tbody tr th:only-of-type {\n        vertical-align: middle;\n    }\n\n    .dataframe tbody tr th {\n        vertical-align: top;\n    }\n\n    .dataframe thead th {\n        text-align: right;\n    }\n</style>\n<table border=\"1\" class=\"dataframe\">\n  <thead>\n    <tr style=\"text-align: right;\">\n      <th></th>\n      <th>text</th>\n      <th>target</th>\n    </tr>\n  </thead>\n  <tbody>\n    <tr>\n      <th>0</th>\n      <td>is upset that he can't update his Facebook by ...</td>\n      <td>0</td>\n    </tr>\n    <tr>\n      <th>1</th>\n      <td>@Kenichan I dived many times for the ball. Man...</td>\n      <td>0</td>\n    </tr>\n    <tr>\n      <th>2</th>\n      <td>my whole body feels itchy and like its on fire</td>\n      <td>0</td>\n    </tr>\n    <tr>\n      <th>3</th>\n      <td>@nationwideclass no, it's not behaving at all....</td>\n      <td>0</td>\n    </tr>\n    <tr>\n      <th>4</th>\n      <td>@Kwesidei not the whole crew</td>\n      <td>0</td>\n    </tr>\n  </tbody>\n</table>\n</div>"
     },
     "execution_count": 9,
     "metadata": {},
     "output_type": "execute_result"
    }
   ],
   "source": [
    "# swap the position of the columns\n",
    "df = df.loc[:, ['text', 'target']]\n",
    "df.head()"
   ],
   "metadata": {
    "collapsed": false,
    "ExecuteTime": {
     "start_time": "2023-04-10T15:02:35.856865Z",
     "end_time": "2023-04-10T15:02:35.893150Z"
    }
   }
  },
  {
   "cell_type": "code",
   "execution_count": 10,
   "outputs": [
    {
     "data": {
      "text/plain": "                                                      text  target\n1599994  Just woke up. Having no school is the best fee...       1\n1599995  TheWDB.com - Very cool to hear old Walt interv...       1\n1599996  Are you ready for your MoJo Makeover? Ask me f...       1\n1599997  Happy 38th Birthday to my boo of alll time!!! ...       1\n1599998  happy #charitytuesday @theNSPCC @SparksCharity...       1",
      "text/html": "<div>\n<style scoped>\n    .dataframe tbody tr th:only-of-type {\n        vertical-align: middle;\n    }\n\n    .dataframe tbody tr th {\n        vertical-align: top;\n    }\n\n    .dataframe thead th {\n        text-align: right;\n    }\n</style>\n<table border=\"1\" class=\"dataframe\">\n  <thead>\n    <tr style=\"text-align: right;\">\n      <th></th>\n      <th>text</th>\n      <th>target</th>\n    </tr>\n  </thead>\n  <tbody>\n    <tr>\n      <th>1599994</th>\n      <td>Just woke up. Having no school is the best fee...</td>\n      <td>1</td>\n    </tr>\n    <tr>\n      <th>1599995</th>\n      <td>TheWDB.com - Very cool to hear old Walt interv...</td>\n      <td>1</td>\n    </tr>\n    <tr>\n      <th>1599996</th>\n      <td>Are you ready for your MoJo Makeover? Ask me f...</td>\n      <td>1</td>\n    </tr>\n    <tr>\n      <th>1599997</th>\n      <td>Happy 38th Birthday to my boo of alll time!!! ...</td>\n      <td>1</td>\n    </tr>\n    <tr>\n      <th>1599998</th>\n      <td>happy #charitytuesday @theNSPCC @SparksCharity...</td>\n      <td>1</td>\n    </tr>\n  </tbody>\n</table>\n</div>"
     },
     "execution_count": 10,
     "metadata": {},
     "output_type": "execute_result"
    }
   ],
   "source": [
    "df['target'] = df['target'].replace(4, 1)\n",
    "df.tail()"
   ],
   "metadata": {
    "collapsed": false,
    "ExecuteTime": {
     "start_time": "2023-04-10T15:02:37.108439Z",
     "end_time": "2023-04-10T15:02:37.128066Z"
    }
   }
  },
  {
   "cell_type": "code",
   "execution_count": 11,
   "outputs": [
    {
     "data": {
      "text/plain": "text      1581465\ntarget          2\ndtype: int64"
     },
     "execution_count": 11,
     "metadata": {},
     "output_type": "execute_result"
    }
   ],
   "source": [
    "df.nunique()"
   ],
   "metadata": {
    "collapsed": false,
    "ExecuteTime": {
     "start_time": "2023-04-10T15:02:38.019590Z",
     "end_time": "2023-04-10T15:02:38.604514Z"
    }
   }
  },
  {
   "cell_type": "code",
   "execution_count": 12,
   "outputs": [
    {
     "data": {
      "text/plain": "array([0, 1])"
     },
     "execution_count": 12,
     "metadata": {},
     "output_type": "execute_result"
    }
   ],
   "source": [
    "df['target'].unique()"
   ],
   "metadata": {
    "collapsed": false,
    "ExecuteTime": {
     "start_time": "2023-04-10T15:02:39.294079Z",
     "end_time": "2023-04-10T15:02:39.306032Z"
    }
   }
  },
  {
   "cell_type": "code",
   "execution_count": 13,
   "id": "d818d7aa-d74c-42cc-bd98-5def11fc3efe",
   "metadata": {
    "tags": [],
    "ExecuteTime": {
     "start_time": "2023-04-10T15:02:41.019602Z",
     "end_time": "2023-04-10T15:02:45.448904Z"
    }
   },
   "outputs": [
    {
     "data": {
      "text/plain": "                                                text  target\n0  is upset that he cant update his Facebook by t...       0\n1  Kenichan I dived many times for the ball Manag...       0\n2    my whole body feels itchy and like its on fire        0\n3  nationwideclass no its not behaving at all im ...       0\n4                       Kwesidei not the whole crew        0",
      "text/html": "<div>\n<style scoped>\n    .dataframe tbody tr th:only-of-type {\n        vertical-align: middle;\n    }\n\n    .dataframe tbody tr th {\n        vertical-align: top;\n    }\n\n    .dataframe thead th {\n        text-align: right;\n    }\n</style>\n<table border=\"1\" class=\"dataframe\">\n  <thead>\n    <tr style=\"text-align: right;\">\n      <th></th>\n      <th>text</th>\n      <th>target</th>\n    </tr>\n  </thead>\n  <tbody>\n    <tr>\n      <th>0</th>\n      <td>is upset that he cant update his Facebook by t...</td>\n      <td>0</td>\n    </tr>\n    <tr>\n      <th>1</th>\n      <td>Kenichan I dived many times for the ball Manag...</td>\n      <td>0</td>\n    </tr>\n    <tr>\n      <th>2</th>\n      <td>my whole body feels itchy and like its on fire</td>\n      <td>0</td>\n    </tr>\n    <tr>\n      <th>3</th>\n      <td>nationwideclass no its not behaving at all im ...</td>\n      <td>0</td>\n    </tr>\n    <tr>\n      <th>4</th>\n      <td>Kwesidei not the whole crew</td>\n      <td>0</td>\n    </tr>\n  </tbody>\n</table>\n</div>"
     },
     "execution_count": 13,
     "metadata": {},
     "output_type": "execute_result"
    }
   ],
   "source": [
    "def remove_punctuation(text):\n",
    "    # check if the input is a string\n",
    "    if isinstance(text, str):\n",
    "        # create a translation table with punctuation marks mapped to None\n",
    "        translator = str.maketrans('', '', string.punctuation)\n",
    "        # remove punctuation using the translation table\n",
    "        return text.translate(translator)\n",
    "    else:\n",
    "        # if the input is not a string, return the input unchanged\n",
    "        return text\n",
    "\n",
    "# apply the remove_punctuation function to the 'A' column\n",
    "df['text'] = df['text'].apply(lambda x: remove_punctuation(x))\n",
    "df.head()"
   ]
  },
  {
   "cell_type": "code",
   "execution_count": 14,
   "id": "fde50edd-99bb-4d6d-9108-e4ff467e86c8",
   "metadata": {
    "ExecuteTime": {
     "start_time": "2023-04-10T15:03:15.404242Z",
     "end_time": "2023-04-10T15:05:04.569169Z"
    }
   },
   "outputs": [
    {
     "data": {
      "text/plain": "                                                      text  target\n0        [upset, cant, update, facebook, texting, might...       0\n1        [kenichan, dived, many, times, ball, managed, ...       0\n2                  [whole, body, feels, itchy, like, fire]       0\n3          [nationwideclass, behaving, im, mad, cant, see]       0\n4                                  [kwesidei, whole, crew]       0\n...                                                    ...     ...\n1599994                [woke, school, best, feeling, ever]       1\n1599995  [thewdbcom, cool, hear, old, walt, interviews,...       1\n1599996              [ready, mojo, makeover, ask, details]       1\n1599997  [happy, 38th, birthday, boo, alll, time, tupac...       1\n1599998  [happy, charitytuesday, thenspcc, sparkscharit...       1\n\n[1599999 rows x 2 columns]",
      "text/html": "<div>\n<style scoped>\n    .dataframe tbody tr th:only-of-type {\n        vertical-align: middle;\n    }\n\n    .dataframe tbody tr th {\n        vertical-align: top;\n    }\n\n    .dataframe thead th {\n        text-align: right;\n    }\n</style>\n<table border=\"1\" class=\"dataframe\">\n  <thead>\n    <tr style=\"text-align: right;\">\n      <th></th>\n      <th>text</th>\n      <th>target</th>\n    </tr>\n  </thead>\n  <tbody>\n    <tr>\n      <th>0</th>\n      <td>[upset, cant, update, facebook, texting, might...</td>\n      <td>0</td>\n    </tr>\n    <tr>\n      <th>1</th>\n      <td>[kenichan, dived, many, times, ball, managed, ...</td>\n      <td>0</td>\n    </tr>\n    <tr>\n      <th>2</th>\n      <td>[whole, body, feels, itchy, like, fire]</td>\n      <td>0</td>\n    </tr>\n    <tr>\n      <th>3</th>\n      <td>[nationwideclass, behaving, im, mad, cant, see]</td>\n      <td>0</td>\n    </tr>\n    <tr>\n      <th>4</th>\n      <td>[kwesidei, whole, crew]</td>\n      <td>0</td>\n    </tr>\n    <tr>\n      <th>...</th>\n      <td>...</td>\n      <td>...</td>\n    </tr>\n    <tr>\n      <th>1599994</th>\n      <td>[woke, school, best, feeling, ever]</td>\n      <td>1</td>\n    </tr>\n    <tr>\n      <th>1599995</th>\n      <td>[thewdbcom, cool, hear, old, walt, interviews,...</td>\n      <td>1</td>\n    </tr>\n    <tr>\n      <th>1599996</th>\n      <td>[ready, mojo, makeover, ask, details]</td>\n      <td>1</td>\n    </tr>\n    <tr>\n      <th>1599997</th>\n      <td>[happy, 38th, birthday, boo, alll, time, tupac...</td>\n      <td>1</td>\n    </tr>\n    <tr>\n      <th>1599998</th>\n      <td>[happy, charitytuesday, thenspcc, sparkscharit...</td>\n      <td>1</td>\n    </tr>\n  </tbody>\n</table>\n<p>1599999 rows × 2 columns</p>\n</div>"
     },
     "execution_count": 14,
     "metadata": {},
     "output_type": "execute_result"
    }
   ],
   "source": [
    "nltk.data.path.append('/Users/thaveesha/Developer/nltk_data')\n",
    "\n",
    "# Tokenize sentences into words\n",
    "df['text'] = df['text'].apply(lambda x: word_tokenize(x.lower()))\n",
    "\n",
    "# Remove stop words\n",
    "stop_words = set(stopwords.words('english'))\n",
    "df['text'] = df['text'].apply(lambda x: [word for word in x if word not in stop_words])\n",
    "\n",
    "df"
   ]
  },
  {
   "cell_type": "code",
   "execution_count": 15,
   "outputs": [
    {
     "data": {
      "text/plain": "                                                      text  target\n0        ['upset', 'cant', 'update', 'facebook', 'texti...       0\n1        ['kenichan', 'dived', 'many', 'times', 'ball',...       0\n2        ['whole', 'body', 'feels', 'itchy', 'like', 'f...       0\n3        ['nationwideclass', 'behaving', 'im', 'mad', '...       0\n4                            ['kwesidei', 'whole', 'crew']       0\n...                                                    ...     ...\n1599994      ['woke', 'school', 'best', 'feeling', 'ever']       1\n1599995  ['thewdbcom', 'cool', 'hear', 'old', 'walt', '...       1\n1599996    ['ready', 'mojo', 'makeover', 'ask', 'details']       1\n1599997  ['happy', '38th', 'birthday', 'boo', 'alll', '...       1\n1599998  ['happy', 'charitytuesday', 'thenspcc', 'spark...       1\n\n[1599999 rows x 2 columns]",
      "text/html": "<div>\n<style scoped>\n    .dataframe tbody tr th:only-of-type {\n        vertical-align: middle;\n    }\n\n    .dataframe tbody tr th {\n        vertical-align: top;\n    }\n\n    .dataframe thead th {\n        text-align: right;\n    }\n</style>\n<table border=\"1\" class=\"dataframe\">\n  <thead>\n    <tr style=\"text-align: right;\">\n      <th></th>\n      <th>text</th>\n      <th>target</th>\n    </tr>\n  </thead>\n  <tbody>\n    <tr>\n      <th>0</th>\n      <td>['upset', 'cant', 'update', 'facebook', 'texti...</td>\n      <td>0</td>\n    </tr>\n    <tr>\n      <th>1</th>\n      <td>['kenichan', 'dived', 'many', 'times', 'ball',...</td>\n      <td>0</td>\n    </tr>\n    <tr>\n      <th>2</th>\n      <td>['whole', 'body', 'feels', 'itchy', 'like', 'f...</td>\n      <td>0</td>\n    </tr>\n    <tr>\n      <th>3</th>\n      <td>['nationwideclass', 'behaving', 'im', 'mad', '...</td>\n      <td>0</td>\n    </tr>\n    <tr>\n      <th>4</th>\n      <td>['kwesidei', 'whole', 'crew']</td>\n      <td>0</td>\n    </tr>\n    <tr>\n      <th>...</th>\n      <td>...</td>\n      <td>...</td>\n    </tr>\n    <tr>\n      <th>1599994</th>\n      <td>['woke', 'school', 'best', 'feeling', 'ever']</td>\n      <td>1</td>\n    </tr>\n    <tr>\n      <th>1599995</th>\n      <td>['thewdbcom', 'cool', 'hear', 'old', 'walt', '...</td>\n      <td>1</td>\n    </tr>\n    <tr>\n      <th>1599996</th>\n      <td>['ready', 'mojo', 'makeover', 'ask', 'details']</td>\n      <td>1</td>\n    </tr>\n    <tr>\n      <th>1599997</th>\n      <td>['happy', '38th', 'birthday', 'boo', 'alll', '...</td>\n      <td>1</td>\n    </tr>\n    <tr>\n      <th>1599998</th>\n      <td>['happy', 'charitytuesday', 'thenspcc', 'spark...</td>\n      <td>1</td>\n    </tr>\n  </tbody>\n</table>\n<p>1599999 rows × 2 columns</p>\n</div>"
     },
     "execution_count": 15,
     "metadata": {},
     "output_type": "execute_result"
    }
   ],
   "source": [
    "df.to_csv('../datasets/cleaned_datasets/cleaned_twitter_dataset_without_lemmatization.csv', header=True, encoding='utf-8', index=False)\n",
    "df = pd.read_csv('../datasets/cleaned_datasets/cleaned_twitter_dataset_without_lemmatization.csv')\n",
    "df"
   ],
   "metadata": {
    "collapsed": false,
    "ExecuteTime": {
     "start_time": "2023-04-10T15:08:09.256587Z",
     "end_time": "2023-04-10T15:08:15.524499Z"
    }
   }
  },
  {
   "cell_type": "code",
   "execution_count": null,
   "outputs": [],
   "source": [
    "# Apply Lemmatization\n",
    "lemmatizer = WordNetLemmatizer()\n",
    "df['text'] = df['text'].apply(lambda x: [lemmatizer.lemmatize(word) for word in x])\n",
    "\n",
    "df.tail()"
   ],
   "metadata": {
    "collapsed": false
   }
  },
  {
   "cell_type": "code",
   "execution_count": 15,
   "id": "dfca130f-4ad6-428b-9f22-6fb58d5a42e0",
   "metadata": {
    "tags": [],
    "ExecuteTime": {
     "start_time": "2023-04-08T22:54:14.175551Z",
     "end_time": "2023-04-08T22:54:18.603478Z"
    }
   },
   "outputs": [
    {
     "data": {
      "text/plain": "                                                      text  target\n0        ['upset', 'cant', 'update', 'facebook', 'texti...       0\n1        ['kenichan', 'dived', 'many', 'time', 'ball', ...       0\n2        ['whole', 'body', 'feel', 'itchy', 'like', 'fi...       0\n3        ['nationwideclass', 'behaving', 'im', 'mad', '...       0\n4                            ['kwesidei', 'whole', 'crew']       0\n...                                                    ...     ...\n1599994      ['woke', 'school', 'best', 'feeling', 'ever']       1\n1599995  ['thewdbcom', 'cool', 'hear', 'old', 'walt', '...       1\n1599996     ['ready', 'mojo', 'makeover', 'ask', 'detail']       1\n1599997  ['happy', '38th', 'birthday', 'boo', 'alll', '...       1\n1599998  ['happy', 'charitytuesday', 'thenspcc', 'spark...       1\n\n[1599999 rows x 2 columns]",
      "text/html": "<div>\n<style scoped>\n    .dataframe tbody tr th:only-of-type {\n        vertical-align: middle;\n    }\n\n    .dataframe tbody tr th {\n        vertical-align: top;\n    }\n\n    .dataframe thead th {\n        text-align: right;\n    }\n</style>\n<table border=\"1\" class=\"dataframe\">\n  <thead>\n    <tr style=\"text-align: right;\">\n      <th></th>\n      <th>text</th>\n      <th>target</th>\n    </tr>\n  </thead>\n  <tbody>\n    <tr>\n      <th>0</th>\n      <td>['upset', 'cant', 'update', 'facebook', 'texti...</td>\n      <td>0</td>\n    </tr>\n    <tr>\n      <th>1</th>\n      <td>['kenichan', 'dived', 'many', 'time', 'ball', ...</td>\n      <td>0</td>\n    </tr>\n    <tr>\n      <th>2</th>\n      <td>['whole', 'body', 'feel', 'itchy', 'like', 'fi...</td>\n      <td>0</td>\n    </tr>\n    <tr>\n      <th>3</th>\n      <td>['nationwideclass', 'behaving', 'im', 'mad', '...</td>\n      <td>0</td>\n    </tr>\n    <tr>\n      <th>4</th>\n      <td>['kwesidei', 'whole', 'crew']</td>\n      <td>0</td>\n    </tr>\n    <tr>\n      <th>...</th>\n      <td>...</td>\n      <td>...</td>\n    </tr>\n    <tr>\n      <th>1599994</th>\n      <td>['woke', 'school', 'best', 'feeling', 'ever']</td>\n      <td>1</td>\n    </tr>\n    <tr>\n      <th>1599995</th>\n      <td>['thewdbcom', 'cool', 'hear', 'old', 'walt', '...</td>\n      <td>1</td>\n    </tr>\n    <tr>\n      <th>1599996</th>\n      <td>['ready', 'mojo', 'makeover', 'ask', 'detail']</td>\n      <td>1</td>\n    </tr>\n    <tr>\n      <th>1599997</th>\n      <td>['happy', '38th', 'birthday', 'boo', 'alll', '...</td>\n      <td>1</td>\n    </tr>\n    <tr>\n      <th>1599998</th>\n      <td>['happy', 'charitytuesday', 'thenspcc', 'spark...</td>\n      <td>1</td>\n    </tr>\n  </tbody>\n</table>\n<p>1599999 rows × 2 columns</p>\n</div>"
     },
     "execution_count": 15,
     "metadata": {},
     "output_type": "execute_result"
    }
   ],
   "source": [
    "df.to_csv('../datasets/cleaned_datasets/cleaned_twitter_dataset.csv', header=True, encoding='utf-8', index=False)\n",
    "df = pd.read_csv('../datasets/cleaned_datasets/cleaned_twitter_dataset.csv')\n",
    "df"
   ]
  },
  {
   "cell_type": "code",
   "execution_count": null,
   "id": "29028396-4a00-4518-ad81-1552c0a3376f",
   "metadata": {},
   "outputs": [],
   "source": []
  }
 ],
 "metadata": {
  "kernelspec": {
   "display_name": "Python 3.10 (tensorflow)",
   "language": "python",
   "name": "tensorflow"
  },
  "language_info": {
   "codemirror_mode": {
    "name": "ipython",
    "version": 3
   },
   "file_extension": ".py",
   "mimetype": "text/x-python",
   "name": "python",
   "nbconvert_exporter": "python",
   "pygments_lexer": "ipython3",
   "version": "3.10.10"
  }
 },
 "nbformat": 4,
 "nbformat_minor": 5
}
